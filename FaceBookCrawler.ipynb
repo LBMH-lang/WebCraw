{
  "cells": [
    {
      "cell_type": "markdown",
      "metadata": {
        "id": "view-in-github",
        "colab_type": "text"
      },
      "source": [
        "<a href=\"https://colab.research.google.com/github/LBMH-lang/WebCraw/blob/master/FaceBookCrawler.ipynb\" target=\"_parent\"><img src=\"https://colab.research.google.com/assets/colab-badge.svg\" alt=\"Open In Colab\"/></a>"
      ]
    },
    {
      "cell_type": "markdown",
      "metadata": {
        "id": "cEL8jy2_Oz7J"
      },
      "source": [
        "# 0. Author notes"
      ]
    },
    {
      "cell_type": "markdown",
      "metadata": {
        "id": "QuNPHnQlOz7O"
      },
      "source": [
        "Hello everyone,\n",
        "\n",
        "Thank you for using my quick Facebook Scraping Python template.\n",
        "This solution leverages the library that called **facebook_scrapper** of **kevinzg**.\n",
        "\n",
        "You can learn more about this package at: https://pypi.org/project/facebook-scraper/\n",
        "\n",
        "I hope you can use this to develop your understanding in Social Listeners; Marketing; Market Insights; Sentiment Analysis;... and take this at the first step in Data Analytics world.\n",
        "\n",
        "I decide to share this works to my UFLL Vietnam (Unilever Future Leaders' League) fellows, friends, and you.\n",
        "\n",
        "Regards,\n",
        "Duc Lai\n",
        "\n",
        "📧: me@henryduc.codes"
      ]
    },
    {
      "cell_type": "markdown",
      "metadata": {
        "id": "y_H9oWgmOz7P"
      },
      "source": [
        "# 1. Install Library"
      ]
    },
    {
      "cell_type": "code",
      "execution_count": null,
      "metadata": {
        "colab": {
          "base_uri": "https://localhost:8080/"
        },
        "id": "TEkUSyGsDC14",
        "outputId": "6713267c-42e9-41a2-fae8-e9ecd08f2e58"
      },
      "outputs": [
        {
          "output_type": "stream",
          "name": "stdout",
          "text": [
            "Collecting facebook_scraper\n",
            "  Downloading facebook_scraper-0.2.59-py3-none-any.whl (45 kB)\n",
            "\u001b[?25l     \u001b[90m━━━━━━━━━━━━━━━━━━━━━━━━━━━━━━━━━━━━━━━━\u001b[0m \u001b[32m0.0/45.5 kB\u001b[0m \u001b[31m?\u001b[0m eta \u001b[36m-:--:--\u001b[0m\r\u001b[2K     \u001b[90m━━━━━━━━━━━━━━━━━━━━━━━━━━━━━━━━━━━━━━━━\u001b[0m \u001b[32m45.5/45.5 kB\u001b[0m \u001b[31m1.7 MB/s\u001b[0m eta \u001b[36m0:00:00\u001b[0m\n",
            "\u001b[?25hCollecting dateparser<2.0.0,>=1.0.0 (from facebook_scraper)\n",
            "  Downloading dateparser-1.2.0-py2.py3-none-any.whl (294 kB)\n",
            "\u001b[?25l     \u001b[90m━━━━━━━━━━━━━━━━━━━━━━━━━━━━━━━━━━━━━━━━\u001b[0m \u001b[32m0.0/295.0 kB\u001b[0m \u001b[31m?\u001b[0m eta \u001b[36m-:--:--\u001b[0m\r\u001b[2K     \u001b[90m━━━━━━━━━━━━━━━━━━━━━━━━━━━━━━━━━━━━━━━━\u001b[0m \u001b[32m295.0/295.0 kB\u001b[0m \u001b[31m14.8 MB/s\u001b[0m eta \u001b[36m0:00:00\u001b[0m\n",
            "\u001b[?25hCollecting demjson3<4.0.0,>=3.0.5 (from facebook_scraper)\n",
            "  Downloading demjson3-3.0.6.tar.gz (131 kB)\n",
            "\u001b[?25l     \u001b[90m━━━━━━━━━━━━━━━━━━━━━━━━━━━━━━━━━━━━━━━━\u001b[0m \u001b[32m0.0/131.5 kB\u001b[0m \u001b[31m?\u001b[0m eta \u001b[36m-:--:--\u001b[0m\r\u001b[2K     \u001b[90m━━━━━━━━━━━━━━━━━━━━━━━━━━━━━━━━━━━━━━━━\u001b[0m \u001b[32m131.5/131.5 kB\u001b[0m \u001b[31m18.0 MB/s\u001b[0m eta \u001b[36m0:00:00\u001b[0m\n",
            "\u001b[?25h  Preparing metadata (setup.py) ... \u001b[?25l\u001b[?25hdone\n",
            "Collecting requests-html<0.11.0,>=0.10.0 (from facebook_scraper)\n",
            "  Downloading requests_html-0.10.0-py3-none-any.whl (13 kB)\n",
            "Requirement already satisfied: python-dateutil in /usr/local/lib/python3.10/dist-packages (from dateparser<2.0.0,>=1.0.0->facebook_scraper) (2.8.2)\n",
            "Requirement already satisfied: pytz in /usr/local/lib/python3.10/dist-packages (from dateparser<2.0.0,>=1.0.0->facebook_scraper) (2023.3.post1)\n",
            "Requirement already satisfied: regex!=2019.02.19,!=2021.8.27 in /usr/local/lib/python3.10/dist-packages (from dateparser<2.0.0,>=1.0.0->facebook_scraper) (2023.6.3)\n",
            "Requirement already satisfied: tzlocal in /usr/local/lib/python3.10/dist-packages (from dateparser<2.0.0,>=1.0.0->facebook_scraper) (5.2)\n",
            "Requirement already satisfied: requests in /usr/local/lib/python3.10/dist-packages (from requests-html<0.11.0,>=0.10.0->facebook_scraper) (2.31.0)\n",
            "Collecting pyquery (from requests-html<0.11.0,>=0.10.0->facebook_scraper)\n",
            "  Downloading pyquery-2.0.0-py3-none-any.whl (22 kB)\n",
            "Collecting fake-useragent (from requests-html<0.11.0,>=0.10.0->facebook_scraper)\n",
            "  Downloading fake_useragent-1.3.0-py3-none-any.whl (15 kB)\n",
            "Collecting parse (from requests-html<0.11.0,>=0.10.0->facebook_scraper)\n",
            "  Downloading parse-1.19.1-py2.py3-none-any.whl (18 kB)\n",
            "Collecting bs4 (from requests-html<0.11.0,>=0.10.0->facebook_scraper)\n",
            "  Downloading bs4-0.0.1.tar.gz (1.1 kB)\n",
            "  Preparing metadata (setup.py) ... \u001b[?25l\u001b[?25hdone\n",
            "Collecting w3lib (from requests-html<0.11.0,>=0.10.0->facebook_scraper)\n",
            "  Downloading w3lib-2.1.2-py3-none-any.whl (21 kB)\n",
            "Collecting pyppeteer>=0.0.14 (from requests-html<0.11.0,>=0.10.0->facebook_scraper)\n",
            "  Downloading pyppeteer-1.0.2-py3-none-any.whl (83 kB)\n",
            "\u001b[2K     \u001b[90m━━━━━━━━━━━━━━━━━━━━━━━━━━━━━━━━━━━━━━━━\u001b[0m \u001b[32m83.4/83.4 kB\u001b[0m \u001b[31m12.9 MB/s\u001b[0m eta \u001b[36m0:00:00\u001b[0m\n",
            "\u001b[?25hRequirement already satisfied: appdirs<2.0.0,>=1.4.3 in /usr/local/lib/python3.10/dist-packages (from pyppeteer>=0.0.14->requests-html<0.11.0,>=0.10.0->facebook_scraper) (1.4.4)\n",
            "Requirement already satisfied: certifi>=2021 in /usr/local/lib/python3.10/dist-packages (from pyppeteer>=0.0.14->requests-html<0.11.0,>=0.10.0->facebook_scraper) (2023.7.22)\n",
            "Requirement already satisfied: importlib-metadata>=1.4 in /usr/local/lib/python3.10/dist-packages (from pyppeteer>=0.0.14->requests-html<0.11.0,>=0.10.0->facebook_scraper) (6.8.0)\n",
            "Collecting pyee<9.0.0,>=8.1.0 (from pyppeteer>=0.0.14->requests-html<0.11.0,>=0.10.0->facebook_scraper)\n",
            "  Downloading pyee-8.2.2-py2.py3-none-any.whl (12 kB)\n",
            "Requirement already satisfied: tqdm<5.0.0,>=4.42.1 in /usr/local/lib/python3.10/dist-packages (from pyppeteer>=0.0.14->requests-html<0.11.0,>=0.10.0->facebook_scraper) (4.66.1)\n",
            "Collecting urllib3<2.0.0,>=1.25.8 (from pyppeteer>=0.0.14->requests-html<0.11.0,>=0.10.0->facebook_scraper)\n",
            "  Downloading urllib3-1.26.18-py2.py3-none-any.whl (143 kB)\n",
            "\u001b[2K     \u001b[90m━━━━━━━━━━━━━━━━━━━━━━━━━━━━━━━━━━━━━━━━\u001b[0m \u001b[32m143.8/143.8 kB\u001b[0m \u001b[31m21.4 MB/s\u001b[0m eta \u001b[36m0:00:00\u001b[0m\n",
            "\u001b[?25hCollecting websockets<11.0,>=10.0 (from pyppeteer>=0.0.14->requests-html<0.11.0,>=0.10.0->facebook_scraper)\n",
            "  Downloading websockets-10.4-cp310-cp310-manylinux_2_5_x86_64.manylinux1_x86_64.manylinux_2_17_x86_64.manylinux2014_x86_64.whl (106 kB)\n",
            "\u001b[2K     \u001b[90m━━━━━━━━━━━━━━━━━━━━━━━━━━━━━━━━━━━━━━━━\u001b[0m \u001b[32m106.8/106.8 kB\u001b[0m \u001b[31m14.8 MB/s\u001b[0m eta \u001b[36m0:00:00\u001b[0m\n",
            "\u001b[?25hRequirement already satisfied: beautifulsoup4 in /usr/local/lib/python3.10/dist-packages (from bs4->requests-html<0.11.0,>=0.10.0->facebook_scraper) (4.11.2)\n",
            "Requirement already satisfied: lxml>=2.1 in /usr/local/lib/python3.10/dist-packages (from pyquery->requests-html<0.11.0,>=0.10.0->facebook_scraper) (4.9.3)\n",
            "Collecting cssselect>=1.2.0 (from pyquery->requests-html<0.11.0,>=0.10.0->facebook_scraper)\n",
            "  Downloading cssselect-1.2.0-py2.py3-none-any.whl (18 kB)\n",
            "Requirement already satisfied: six>=1.5 in /usr/local/lib/python3.10/dist-packages (from python-dateutil->dateparser<2.0.0,>=1.0.0->facebook_scraper) (1.16.0)\n",
            "Requirement already satisfied: charset-normalizer<4,>=2 in /usr/local/lib/python3.10/dist-packages (from requests->requests-html<0.11.0,>=0.10.0->facebook_scraper) (3.3.2)\n",
            "Requirement already satisfied: idna<4,>=2.5 in /usr/local/lib/python3.10/dist-packages (from requests->requests-html<0.11.0,>=0.10.0->facebook_scraper) (3.4)\n",
            "Requirement already satisfied: zipp>=0.5 in /usr/local/lib/python3.10/dist-packages (from importlib-metadata>=1.4->pyppeteer>=0.0.14->requests-html<0.11.0,>=0.10.0->facebook_scraper) (3.17.0)\n",
            "Requirement already satisfied: soupsieve>1.2 in /usr/local/lib/python3.10/dist-packages (from beautifulsoup4->bs4->requests-html<0.11.0,>=0.10.0->facebook_scraper) (2.5)\n",
            "Building wheels for collected packages: demjson3, bs4\n",
            "  Building wheel for demjson3 (setup.py) ... \u001b[?25l\u001b[?25hdone\n",
            "  Created wheel for demjson3: filename=demjson3-3.0.6-py3-none-any.whl size=75281 sha256=eb187a93fdd8473516c019de400880af5219aba301e387899352abbc92f66d91\n",
            "  Stored in directory: /root/.cache/pip/wheels/2d/32/af/75c810e14c7ca0df40c20c662fcc7f33d1e055937b4e452cc1\n",
            "  Building wheel for bs4 (setup.py) ... \u001b[?25l\u001b[?25hdone\n",
            "  Created wheel for bs4: filename=bs4-0.0.1-py3-none-any.whl size=1257 sha256=da0e2d55a479a99900cb1d75590dd90cc5eb67ba4871ee4a4932b367690f59bb\n",
            "  Stored in directory: /root/.cache/pip/wheels/25/42/45/b773edc52acb16cd2db4cf1a0b47117e2f69bb4eb300ed0e70\n",
            "Successfully built demjson3 bs4\n",
            "Installing collected packages: pyee, parse, fake-useragent, demjson3, websockets, w3lib, urllib3, cssselect, pyquery, pyppeteer, dateparser, bs4, requests-html, facebook_scraper\n",
            "  Attempting uninstall: urllib3\n",
            "    Found existing installation: urllib3 2.0.7\n",
            "    Uninstalling urllib3-2.0.7:\n",
            "      Successfully uninstalled urllib3-2.0.7\n",
            "Successfully installed bs4-0.0.1 cssselect-1.2.0 dateparser-1.2.0 demjson3-3.0.6 facebook_scraper-0.2.59 fake-useragent-1.3.0 parse-1.19.1 pyee-8.2.2 pyppeteer-1.0.2 pyquery-2.0.0 requests-html-0.10.0 urllib3-1.26.18 w3lib-2.1.2 websockets-10.4\n"
          ]
        }
      ],
      "source": [
        "%pip install facebook_scraper"
      ]
    },
    {
      "cell_type": "markdown",
      "metadata": {
        "id": "Qe_xKWhxOz7S"
      },
      "source": [
        "# 2. Mapping Google Drive folder"
      ]
    },
    {
      "cell_type": "code",
      "execution_count": null,
      "metadata": {
        "colab": {
          "base_uri": "https://localhost:8080/"
        },
        "id": "WUwr7vDGDLv1",
        "outputId": "b644519a-9fe3-4227-a35e-78b738040691"
      },
      "outputs": [
        {
          "output_type": "stream",
          "name": "stdout",
          "text": [
            "Drive already mounted at /content/drive; to attempt to forcibly remount, call drive.mount(\"/content/drive\", force_remount=True).\n"
          ]
        }
      ],
      "source": [
        "from google.colab import drive\n",
        "drive.mount(\"/content/drive\")"
      ]
    },
    {
      "cell_type": "markdown",
      "metadata": {
        "id": "9dBjvwxrOz7T"
      },
      "source": [
        "# 3. Define WebPage & Storage Link"
      ]
    },
    {
      "cell_type": "code",
      "execution_count": null,
      "metadata": {
        "id": "Gqfpmr97DIJV"
      },
      "outputs": [],
      "source": [
        "FANPAGE_LINK =\"unihue\"\n",
        "FOLDER_PATH = \"/content/drive/MyDrive/Demo Crawling/\"\n",
        "COOKIE_PATH = \"/content/drive/MyDrive/Demo Crawling/facebook.com_cookies.txt\"\n",
        "\n",
        "PAGES_NUMBER = 5 # Posts-per-page = 4 => multiply"
      ]
    },
    {
      "cell_type": "markdown",
      "metadata": {
        "id": "-ZlS9_adOz7U"
      },
      "source": [
        "# 4. Source Ready To Run"
      ]
    },
    {
      "cell_type": "code",
      "execution_count": null,
      "metadata": {
        "id": "vYmaq7YQDJ2t"
      },
      "outputs": [],
      "source": [
        "from facebook_scraper import get_posts\n",
        "import pandas as pd"
      ]
    },
    {
      "cell_type": "markdown",
      "metadata": {
        "id": "aUp8fH_ROz7V"
      },
      "source": [
        "### Crawling Start ###"
      ]
    },
    {
      "cell_type": "code",
      "execution_count": null,
      "metadata": {
        "colab": {
          "base_uri": "https://localhost:8080/"
        },
        "id": "DdrehHenDKyq",
        "outputId": "861fafa9-2771-48bd-84aa-6bede7201686"
      },
      "outputs": [
        {
          "output_type": "stream",
          "name": "stderr",
          "text": [
            "/usr/local/lib/python3.10/dist-packages/facebook_scraper/facebook_scraper.py:855: UserWarning: Facebook language detected as vi_VN - for best results, set to en_US\n",
            "  warnings.warn(\n",
            "WARNING:facebook_scraper.extractors:[796727565799293] Extract method extract_video_meta didn't return anything\n",
            "WARNING:facebook_scraper.extractors:[796727565799293] Extract method extract_factcheck didn't return anything\n",
            "ERROR:facebook_scraper.extractors:data-ft attribute not found\n",
            "WARNING:facebook_scraper.extractors:[796727565799293] Extract method extract_listing didn't return anything\n",
            "WARNING:facebook_scraper.extractors:No comments found on page\n",
            "WARNING:facebook_scraper.extractors:[796376592501057] Extract method extract_video didn't return anything\n",
            "WARNING:facebook_scraper.extractors:[796376592501057] Extract method extract_video_thumbnail didn't return anything\n",
            "WARNING:facebook_scraper.extractors:[796376592501057] Extract method extract_video_id didn't return anything\n",
            "WARNING:facebook_scraper.extractors:[796376592501057] Extract method extract_video_meta didn't return anything\n",
            "WARNING:facebook_scraper.extractors:[796376592501057] Extract method extract_factcheck didn't return anything\n",
            "WARNING:facebook_scraper.extractors:[796376592501057] Extract method extract_share_information didn't return anything\n",
            "WARNING:facebook_scraper.extractors:[796376592501057] Extract method extract_listing didn't return anything\n",
            "WARNING:facebook_scraper.extractors:[796376592501057] Extract method extract_with didn't return anything\n",
            "WARNING:facebook_scraper.extractors:[796107185861331] Extract method extract_video didn't return anything\n",
            "WARNING:facebook_scraper.extractors:[796107185861331] Extract method extract_video_thumbnail didn't return anything\n",
            "WARNING:facebook_scraper.extractors:[796107185861331] Extract method extract_video_id didn't return anything\n",
            "WARNING:facebook_scraper.extractors:[796107185861331] Extract method extract_video_meta didn't return anything\n",
            "WARNING:facebook_scraper.extractors:[796107185861331] Extract method extract_factcheck didn't return anything\n",
            "WARNING:facebook_scraper.extractors:[796107185861331] Extract method extract_share_information didn't return anything\n",
            "WARNING:facebook_scraper.extractors:[796107185861331] Extract method extract_listing didn't return anything\n",
            "WARNING:facebook_scraper.extractors:[796107185861331] Extract method extract_with didn't return anything\n",
            "WARNING:facebook_scraper.extractors:No comments found on page\n",
            "WARNING:facebook_scraper.extractors:[796098275862222] Extract method extract_video_meta didn't return anything\n",
            "WARNING:facebook_scraper.extractors:[796098275862222] Extract method extract_factcheck didn't return anything\n",
            "ERROR:facebook_scraper.extractors:data-ft attribute not found\n",
            "WARNING:facebook_scraper.extractors:[796098275862222] Extract method extract_listing didn't return anything\n",
            "WARNING:facebook_scraper.extractors:[794999675972082] Extract method extract_video didn't return anything\n",
            "WARNING:facebook_scraper.extractors:[794999675972082] Extract method extract_video_thumbnail didn't return anything\n",
            "WARNING:facebook_scraper.extractors:[794999675972082] Extract method extract_video_id didn't return anything\n",
            "WARNING:facebook_scraper.extractors:[794999675972082] Extract method extract_video_meta didn't return anything\n",
            "WARNING:facebook_scraper.extractors:[794999675972082] Extract method extract_factcheck didn't return anything\n",
            "WARNING:facebook_scraper.extractors:[794999675972082] Extract method extract_share_information didn't return anything\n",
            "WARNING:facebook_scraper.extractors:[794999675972082] Extract method extract_listing didn't return anything\n",
            "WARNING:facebook_scraper.extractors:[794999675972082] Extract method extract_with didn't return anything\n",
            "ERROR:facebook_scraper.facebook_scraper:Exception while requesting URL: https://m.facebook.com/photo/view_full_size/?fbid=794882985983751&ref_component=mbasic_photo_permalink&ref_page=%2Fwap%2Fphoto.php&refid=13&_ft_=encrypted_tracking_data.0AY8cqMCG9vtImTlIs6TphH9_zQOCgXbueWi3JLg47uwpGlWahCDr3wbNfUiT1WILghvKsBcUyLY8zEhNkgFpCkRCy-0tvtMLr-Gc2KA6LNIJED752ToNgniXUSIAonDJ4IQkTMI4oBKcEF3mMqZUp9tMz-MNBAkqFcunEEmEBULcvR8Ru7S_GrBT7I7ExUknY8BLpRxF7s15XMZBYbAPFkapoeze_ANKIp2YaD2_RX-dYvdVBlXe779Jc59Q6iXZx0drgM8O-JCaaswRNNkQ2BPQO6AHw4J0r9MOrzXNAZfnrscIjgqVUuSdPgtDoIUC3dgaDsSqoZwXNOyvbH4xQod-1989IS2pw3oFZEx_2fpVTtw73VUI21BPrSkTWV1EzdyPDKADB-UDFKII5BobRHb7dg6y9zk0SZYIwEGZ3KX9Sw3ywYXE7zyXSQWL8Va0hqPLTrGCfGupsD6chOV1C-_oIRSbgXE0LLuSrA-OuV16m9M_x42dk3BKSOMoKaGK1Gss6aOMtNlM8b1nQkxTu3r9VX1pxNn6T2Za6tWcjroVBye93yu5YlsLZhIhIHpOtl0T_RHeuVzHwCBbRjKACgkZuSXvuSDCP0qIbE_W43r4AjS4RwB9GyWXS8rfgydjvJlesULTT2ud_bLufaoBiFVmjH2EC2xIyWKh5B_B6jw1UsnJeiPK4sNCawN2D3pH09-\\-\\ZO09sYZHssDlUT8iO2NNNCRQ4ptdiFOhE6zRhicSTyAUu1akRYObdOD2UV2siDBTPKN3yeco8U_GBfr3vX4kD5HN4tHfrjp-wiQPRbt0cj0-BTU-4Izsk5BAwKNnrqZ5uAxeKBi-whUPrppi9ueR-rN6_RkqIwfOPt6GFA_UHsUMq5TWhNvC4gymVN_PyqVHlwGv9pd4DzZLHAI8e-HjPWGnJT2sXVFwxpEcKM8nPwGdJUM2XBDUAixDHqHygb5FYYQiJfNwIdoKw-lXwgy9RbCiUKxM7EWJ8cHy9_yUPvaxqo_aSQdCzKFo9H3AXL5whiXItZvtkRlCsjsXbl29mrtKCXf50hsSyQBJDEfIQRNPF-mGJkHrB4AagJhYXzYoQGrGpLoykN4xk4HuRfg5fDMxS_oGlXBFaKulJGG_x55zjOElHXg9F8G9VZ3U98DUht3JaMvmoUSL9mfy0ksJrMoUQweAAZtQIwTn6gGDZV66Ru03q9r_7C7Ct0qz4P0ERlFSIPtLo85P_MgkiAoZJQX10R9UDiKLZRcUnrzgQlO1KkT5r7sosjq4lk_jJkA-Cf9gQZwjguwIfaBX-T-fPKUGdBpFsqQ9afNlkEmOH-l8ckayPHgooMP100fZbxbYfUgE5LZQJH3jsi_7ZtP1-iDbDG7dAoaXeYvOAcPfRhrsiitJKocN6ObK551-R6hGUnqKCk8-ksEPAl5nzumRFdOoktHy7k9B19PYfBcoU2CZEoe5jPc64uVuLEoKTu-RMYYuVuhWTQ&__tn__=%2Cg&paipv=0&eav=Afb2QeiRkkFvFT3Q2vR8XGKcXQNxN9531PINXMWfQYy8lKQLKznoCXXUKYe_YT6_wH0\n",
            "Exception: HTTPError('500 Server Error: Internal Server Error for url: https://m.facebook.com/photo/view_full_size/?fbid=794882985983751&ref_component=mbasic_photo_permalink&ref_page=%2Fwap%2Fphoto.php&refid=13&_ft_=encrypted_tracking_data.0AY8cqMCG9vtImTlIs6TphH9_zQOCgXbueWi3JLg47uwpGlWahCDr3wbNfUiT1WILghvKsBcUyLY8zEhNkgFpCkRCy-0tvtMLr-Gc2KA6LNIJED752ToNgniXUSIAonDJ4IQkTMI4oBKcEF3mMqZUp9tMz-MNBAkqFcunEEmEBULcvR8Ru7S_GrBT7I7ExUknY8BLpRxF7s15XMZBYbAPFkapoeze_ANKIp2YaD2_RX-dYvdVBlXe779Jc59Q6iXZx0drgM8O-JCaaswRNNkQ2BPQO6AHw4J0r9MOrzXNAZfnrscIjgqVUuSdPgtDoIUC3dgaDsSqoZwXNOyvbH4xQod-1989IS2pw3oFZEx_2fpVTtw73VUI21BPrSkTWV1EzdyPDKADB-UDFKII5BobRHb7dg6y9zk0SZYIwEGZ3KX9Sw3ywYXE7zyXSQWL8Va0hqPLTrGCfGupsD6chOV1C-_oIRSbgXE0LLuSrA-OuV16m9M_x42dk3BKSOMoKaGK1Gss6aOMtNlM8b1nQkxTu3r9VX1pxNn6T2Za6tWcjroVBye93yu5YlsLZhIhIHpOtl0T_RHeuVzHwCBbRjKACgkZuSXvuSDCP0qIbE_W43r4AjS4RwB9GyWXS8rfgydjvJlesULTT2ud_bLufaoBiFVmjH2EC2xIyWKh5B_B6jw1UsnJeiPK4sNCawN2D3pH09-%5C-%5CZO09sYZHssDlUT8iO2NNNCRQ4ptdiFOhE6zRhicSTyAUu1akRYObdOD2UV2siDBTPKN3yeco8U_GBfr3vX4kD5HN4tHfrjp-wiQPRbt0cj0-BTU-4Izsk5BAwKNnrqZ5uAxeKBi-whUPrppi9ueR-rN6_RkqIwfOPt6GFA_UHsUMq5TWhNvC4gymVN_PyqVHlwGv9pd4DzZLHAI8e-HjPWGnJT2sXVFwxpEcKM8nPwGdJUM2XBDUAixDHqHygb5FYYQiJfNwIdoKw-lXwgy9RbCiUKxM7EWJ8cHy9_yUPvaxqo_aSQdCzKFo9H3AXL5whiXItZvtkRlCsjsXbl29mrtKCXf50hsSyQBJDEfIQRNPF-mGJkHrB4AagJhYXzYoQGrGpLoykN4xk4HuRfg5fDMxS_oGlXBFaKulJGG_x55zjOElHXg9F8G9VZ3U98DUht3JaMvmoUSL9mfy0ksJrMoUQweAAZtQIwTn6gGDZV66Ru03q9r_7C7Ct0qz4P0ERlFSIPtLo85P_MgkiAoZJQX10R9UDiKLZRcUnrzgQlO1KkT5r7sosjq4lk_jJkA-Cf9gQZwjguwIfaBX-T-fPKUGdBpFsqQ9afNlkEmOH-l8ckayPHgooMP100fZbxbYfUgE5LZQJH3jsi_7ZtP1-iDbDG7dAoaXeYvOAcPfRhrsiitJKocN6ObK551-R6hGUnqKCk8-ksEPAl5nzumRFdOoktHy7k9B19PYfBcoU2CZEoe5jPc64uVuLEoKTu-RMYYuVuhWTQ&__tn__=%2Cg&paipv=0&eav=Afb2QeiRkkFvFT3Q2vR8XGKcXQNxN9531PINXMWfQYy8lKQLKznoCXXUKYe_YT6_wH0')\n",
            "Traceback (most recent call last):\n",
            "  File \"/usr/local/lib/python3.10/dist-packages/facebook_scraper/facebook_scraper.py\", line 880, in get\n",
            "    response.raise_for_status()\n",
            "  File \"/usr/local/lib/python3.10/dist-packages/requests/models.py\", line 1021, in raise_for_status\n",
            "    raise HTTPError(http_error_msg, response=self)\n",
            "requests.exceptions.HTTPError: 500 Server Error: Internal Server Error for url: https://m.facebook.com/photo/view_full_size/?fbid=794882985983751&ref_component=mbasic_photo_permalink&ref_page=%2Fwap%2Fphoto.php&refid=13&_ft_=encrypted_tracking_data.0AY8cqMCG9vtImTlIs6TphH9_zQOCgXbueWi3JLg47uwpGlWahCDr3wbNfUiT1WILghvKsBcUyLY8zEhNkgFpCkRCy-0tvtMLr-Gc2KA6LNIJED752ToNgniXUSIAonDJ4IQkTMI4oBKcEF3mMqZUp9tMz-MNBAkqFcunEEmEBULcvR8Ru7S_GrBT7I7ExUknY8BLpRxF7s15XMZBYbAPFkapoeze_ANKIp2YaD2_RX-dYvdVBlXe779Jc59Q6iXZx0drgM8O-JCaaswRNNkQ2BPQO6AHw4J0r9MOrzXNAZfnrscIjgqVUuSdPgtDoIUC3dgaDsSqoZwXNOyvbH4xQod-1989IS2pw3oFZEx_2fpVTtw73VUI21BPrSkTWV1EzdyPDKADB-UDFKII5BobRHb7dg6y9zk0SZYIwEGZ3KX9Sw3ywYXE7zyXSQWL8Va0hqPLTrGCfGupsD6chOV1C-_oIRSbgXE0LLuSrA-OuV16m9M_x42dk3BKSOMoKaGK1Gss6aOMtNlM8b1nQkxTu3r9VX1pxNn6T2Za6tWcjroVBye93yu5YlsLZhIhIHpOtl0T_RHeuVzHwCBbRjKACgkZuSXvuSDCP0qIbE_W43r4AjS4RwB9GyWXS8rfgydjvJlesULTT2ud_bLufaoBiFVmjH2EC2xIyWKh5B_B6jw1UsnJeiPK4sNCawN2D3pH09-%5C-%5CZO09sYZHssDlUT8iO2NNNCRQ4ptdiFOhE6zRhicSTyAUu1akRYObdOD2UV2siDBTPKN3yeco8U_GBfr3vX4kD5HN4tHfrjp-wiQPRbt0cj0-BTU-4Izsk5BAwKNnrqZ5uAxeKBi-whUPrppi9ueR-rN6_RkqIwfOPt6GFA_UHsUMq5TWhNvC4gymVN_PyqVHlwGv9pd4DzZLHAI8e-HjPWGnJT2sXVFwxpEcKM8nPwGdJUM2XBDUAixDHqHygb5FYYQiJfNwIdoKw-lXwgy9RbCiUKxM7EWJ8cHy9_yUPvaxqo_aSQdCzKFo9H3AXL5whiXItZvtkRlCsjsXbl29mrtKCXf50hsSyQBJDEfIQRNPF-mGJkHrB4AagJhYXzYoQGrGpLoykN4xk4HuRfg5fDMxS_oGlXBFaKulJGG_x55zjOElHXg9F8G9VZ3U98DUht3JaMvmoUSL9mfy0ksJrMoUQweAAZtQIwTn6gGDZV66Ru03q9r_7C7Ct0qz4P0ERlFSIPtLo85P_MgkiAoZJQX10R9UDiKLZRcUnrzgQlO1KkT5r7sosjq4lk_jJkA-Cf9gQZwjguwIfaBX-T-fPKUGdBpFsqQ9afNlkEmOH-l8ckayPHgooMP100fZbxbYfUgE5LZQJH3jsi_7ZtP1-iDbDG7dAoaXeYvOAcPfRhrsiitJKocN6ObK551-R6hGUnqKCk8-ksEPAl5nzumRFdOoktHy7k9B19PYfBcoU2CZEoe5jPc64uVuLEoKTu-RMYYuVuhWTQ&__tn__=%2Cg&paipv=0&eav=Afb2QeiRkkFvFT3Q2vR8XGKcXQNxN9531PINXMWfQYy8lKQLKznoCXXUKYe_YT6_wH0\n",
            "ERROR:facebook_scraper.extractors:500 Server Error: Internal Server Error for url: https://m.facebook.com/photo/view_full_size/?fbid=794882985983751&ref_component=mbasic_photo_permalink&ref_page=%2Fwap%2Fphoto.php&refid=13&_ft_=encrypted_tracking_data.0AY8cqMCG9vtImTlIs6TphH9_zQOCgXbueWi3JLg47uwpGlWahCDr3wbNfUiT1WILghvKsBcUyLY8zEhNkgFpCkRCy-0tvtMLr-Gc2KA6LNIJED752ToNgniXUSIAonDJ4IQkTMI4oBKcEF3mMqZUp9tMz-MNBAkqFcunEEmEBULcvR8Ru7S_GrBT7I7ExUknY8BLpRxF7s15XMZBYbAPFkapoeze_ANKIp2YaD2_RX-dYvdVBlXe779Jc59Q6iXZx0drgM8O-JCaaswRNNkQ2BPQO6AHw4J0r9MOrzXNAZfnrscIjgqVUuSdPgtDoIUC3dgaDsSqoZwXNOyvbH4xQod-1989IS2pw3oFZEx_2fpVTtw73VUI21BPrSkTWV1EzdyPDKADB-UDFKII5BobRHb7dg6y9zk0SZYIwEGZ3KX9Sw3ywYXE7zyXSQWL8Va0hqPLTrGCfGupsD6chOV1C-_oIRSbgXE0LLuSrA-OuV16m9M_x42dk3BKSOMoKaGK1Gss6aOMtNlM8b1nQkxTu3r9VX1pxNn6T2Za6tWcjroVBye93yu5YlsLZhIhIHpOtl0T_RHeuVzHwCBbRjKACgkZuSXvuSDCP0qIbE_W43r4AjS4RwB9GyWXS8rfgydjvJlesULTT2ud_bLufaoBiFVmjH2EC2xIyWKh5B_B6jw1UsnJeiPK4sNCawN2D3pH09-%5C-%5CZO09sYZHssDlUT8iO2NNNCRQ4ptdiFOhE6zRhicSTyAUu1akRYObdOD2UV2siDBTPKN3yeco8U_GBfr3vX4kD5HN4tHfrjp-wiQPRbt0cj0-BTU-4Izsk5BAwKNnrqZ5uAxeKBi-whUPrppi9ueR-rN6_RkqIwfOPt6GFA_UHsUMq5TWhNvC4gymVN_PyqVHlwGv9pd4DzZLHAI8e-HjPWGnJT2sXVFwxpEcKM8nPwGdJUM2XBDUAixDHqHygb5FYYQiJfNwIdoKw-lXwgy9RbCiUKxM7EWJ8cHy9_yUPvaxqo_aSQdCzKFo9H3AXL5whiXItZvtkRlCsjsXbl29mrtKCXf50hsSyQBJDEfIQRNPF-mGJkHrB4AagJhYXzYoQGrGpLoykN4xk4HuRfg5fDMxS_oGlXBFaKulJGG_x55zjOElHXg9F8G9VZ3U98DUht3JaMvmoUSL9mfy0ksJrMoUQweAAZtQIwTn6gGDZV66Ru03q9r_7C7Ct0qz4P0ERlFSIPtLo85P_MgkiAoZJQX10R9UDiKLZRcUnrzgQlO1KkT5r7sosjq4lk_jJkA-Cf9gQZwjguwIfaBX-T-fPKUGdBpFsqQ9afNlkEmOH-l8ckayPHgooMP100fZbxbYfUgE5LZQJH3jsi_7ZtP1-iDbDG7dAoaXeYvOAcPfRhrsiitJKocN6ObK551-R6hGUnqKCk8-ksEPAl5nzumRFdOoktHy7k9B19PYfBcoU2CZEoe5jPc64uVuLEoKTu-RMYYuVuhWTQ&__tn__=%2Cg&paipv=0&eav=Afb2QeiRkkFvFT3Q2vR8XGKcXQNxN9531PINXMWfQYy8lKQLKznoCXXUKYe_YT6_wH0\n",
            "WARNING:facebook_scraper.extractors:[794883002650416] Extract method extract_video didn't return anything\n",
            "WARNING:facebook_scraper.extractors:[794883002650416] Extract method extract_video_thumbnail didn't return anything\n",
            "WARNING:facebook_scraper.extractors:[794883002650416] Extract method extract_video_id didn't return anything\n",
            "WARNING:facebook_scraper.extractors:[794883002650416] Extract method extract_video_meta didn't return anything\n",
            "WARNING:facebook_scraper.extractors:[794883002650416] Extract method extract_factcheck didn't return anything\n",
            "WARNING:facebook_scraper.extractors:[794883002650416] Extract method extract_share_information didn't return anything\n",
            "WARNING:facebook_scraper.extractors:[794883002650416] Extract method extract_listing didn't return anything\n",
            "WARNING:facebook_scraper.extractors:[794883002650416] Extract method extract_with didn't return anything\n",
            "WARNING:facebook_scraper.extractors:No comments found on page\n",
            "WARNING:facebook_scraper.extractors:[792178696254180] Extract method extract_video didn't return anything\n",
            "WARNING:facebook_scraper.extractors:[792178696254180] Extract method extract_video_thumbnail didn't return anything\n",
            "WARNING:facebook_scraper.extractors:[792178696254180] Extract method extract_video_id didn't return anything\n",
            "WARNING:facebook_scraper.extractors:[792178696254180] Extract method extract_video_meta didn't return anything\n",
            "WARNING:facebook_scraper.extractors:[792178696254180] Extract method extract_factcheck didn't return anything\n",
            "WARNING:facebook_scraper.extractors:[792178696254180] Extract method extract_share_information didn't return anything\n",
            "WARNING:facebook_scraper.extractors:[792178696254180] Extract method extract_listing didn't return anything\n",
            "WARNING:facebook_scraper.extractors:[792178696254180] Extract method extract_with didn't return anything\n",
            "WARNING:facebook_scraper.extractors:[789872706484779] Extract method extract_video didn't return anything\n",
            "WARNING:facebook_scraper.extractors:[789872706484779] Extract method extract_video_thumbnail didn't return anything\n",
            "WARNING:facebook_scraper.extractors:[789872706484779] Extract method extract_video_id didn't return anything\n",
            "WARNING:facebook_scraper.extractors:[789872706484779] Extract method extract_video_meta didn't return anything\n",
            "WARNING:facebook_scraper.extractors:[789872706484779] Extract method extract_factcheck didn't return anything\n",
            "WARNING:facebook_scraper.extractors:[789872706484779] Extract method extract_share_information didn't return anything\n",
            "WARNING:facebook_scraper.extractors:[789872706484779] Extract method extract_listing didn't return anything\n",
            "WARNING:facebook_scraper.extractors:[789872706484779] Extract method extract_with didn't return anything\n",
            "/usr/local/lib/python3.10/dist-packages/facebook_scraper/facebook_scraper.py:908: UserWarning: Facebook served mbasic/noscript content unexpectedly on https://m.facebook.com/ufi/reaction/profile/browser/fetch/?ft_ent_identifier=pfbid0275ZypTxrzqKec6vK8TL6md8z4HDbuRxStexqkMeFH6nwkvTreYUnxrgqz39Y3P42l&limit=50&shown_ids=100082494616345%2C100074037310395%2C100063861690659%2C100042320552310%2C100034492603227%2C100026239568769%2C100011327124193%2C100010754028929%2C100007837412146%2C100007131571182%2C100007025221875%2C100005059419788%2C100003880601644%2C100003238650042%2C100000173600453%2C100000062341842%2C1477811048&total_count=18&paipv=0&eav=AfaktBifM1h-obLarpkCsflE6UzU_XWQL0ry2uIv8AWUyF-_sX0XsMXEzM0y5mt0D0c\n",
            "  warnings.warn(\n",
            "WARNING:facebook_scraper.extractors:No comments found on page\n",
            "WARNING:facebook_scraper.extractors:[789775673161149] Extract method extract_video didn't return anything\n",
            "WARNING:facebook_scraper.extractors:[789775673161149] Extract method extract_video_thumbnail didn't return anything\n",
            "WARNING:facebook_scraper.extractors:[789775673161149] Extract method extract_video_id didn't return anything\n",
            "WARNING:facebook_scraper.extractors:[789775673161149] Extract method extract_video_meta didn't return anything\n",
            "WARNING:facebook_scraper.extractors:[789775673161149] Extract method extract_factcheck didn't return anything\n",
            "WARNING:facebook_scraper.extractors:[789775673161149] Extract method extract_share_information didn't return anything\n",
            "WARNING:facebook_scraper.extractors:[789775673161149] Extract method extract_listing didn't return anything\n",
            "WARNING:facebook_scraper.extractors:[789775673161149] Extract method extract_with didn't return anything\n",
            "WARNING:facebook_scraper.extractors:No comments found on page\n",
            "WARNING:facebook_scraper.extractors:[789705159834867] Extract method extract_video_meta didn't return anything\n",
            "WARNING:facebook_scraper.extractors:[789705159834867] Extract method extract_factcheck didn't return anything\n",
            "WARNING:facebook_scraper.extractors:[789705159834867] Extract method extract_share_information didn't return anything\n",
            "WARNING:facebook_scraper.extractors:[789705159834867] Extract method extract_listing didn't return anything\n",
            "WARNING:facebook_scraper.extractors:[789705159834867] Extract method extract_with didn't return anything\n",
            "WARNING:facebook_scraper.extractors:No comments found on page\n",
            "WARNING:facebook_scraper.extractors:[789257189879664] Extract method extract_video didn't return anything\n",
            "WARNING:facebook_scraper.extractors:[789257189879664] Extract method extract_video_thumbnail didn't return anything\n",
            "WARNING:facebook_scraper.extractors:[789257189879664] Extract method extract_video_id didn't return anything\n",
            "WARNING:facebook_scraper.extractors:[789257189879664] Extract method extract_video_meta didn't return anything\n",
            "WARNING:facebook_scraper.extractors:[789257189879664] Extract method extract_factcheck didn't return anything\n",
            "WARNING:facebook_scraper.extractors:[789257189879664] Extract method extract_share_information didn't return anything\n",
            "WARNING:facebook_scraper.extractors:[789257189879664] Extract method extract_listing didn't return anything\n",
            "WARNING:facebook_scraper.extractors:[789257189879664] Extract method extract_with didn't return anything\n",
            "WARNING:facebook_scraper.extractors:No comments found on page\n",
            "WARNING:facebook_scraper.extractors:[783043993834317] Extract method extract_video_meta didn't return anything\n",
            "WARNING:facebook_scraper.extractors:[783043993834317] Extract method extract_factcheck didn't return anything\n",
            "ERROR:facebook_scraper.extractors:data-ft attribute not found\n",
            "WARNING:facebook_scraper.extractors:[783043993834317] Extract method extract_listing didn't return anything\n",
            "WARNING:facebook_scraper.extractors:No comments found on page\n",
            "WARNING:facebook_scraper.extractors:[782995643839152] Extract method extract_video_meta didn't return anything\n",
            "WARNING:facebook_scraper.extractors:[782995643839152] Extract method extract_factcheck didn't return anything\n",
            "ERROR:facebook_scraper.extractors:data-ft attribute not found\n",
            "WARNING:facebook_scraper.extractors:[782995643839152] Extract method extract_listing didn't return anything\n",
            "WARNING:facebook_scraper.extractors:[782956213843095] Extract method extract_video didn't return anything\n",
            "WARNING:facebook_scraper.extractors:[782956213843095] Extract method extract_video_thumbnail didn't return anything\n",
            "WARNING:facebook_scraper.extractors:[782956213843095] Extract method extract_video_id didn't return anything\n",
            "WARNING:facebook_scraper.extractors:[782956213843095] Extract method extract_video_meta didn't return anything\n",
            "WARNING:facebook_scraper.extractors:[782956213843095] Extract method extract_factcheck didn't return anything\n",
            "WARNING:facebook_scraper.extractors:[782956213843095] Extract method extract_share_information didn't return anything\n",
            "WARNING:facebook_scraper.extractors:[782956213843095] Extract method extract_listing didn't return anything\n",
            "WARNING:facebook_scraper.extractors:[782956213843095] Extract method extract_with didn't return anything\n",
            "WARNING:facebook_scraper.extractors:No comments found on page\n",
            "WARNING:facebook_scraper.extractors:[781880380617345] Extract method extract_video didn't return anything\n",
            "WARNING:facebook_scraper.extractors:[781880380617345] Extract method extract_video_thumbnail didn't return anything\n",
            "WARNING:facebook_scraper.extractors:[781880380617345] Extract method extract_video_id didn't return anything\n",
            "WARNING:facebook_scraper.extractors:[781880380617345] Extract method extract_video_meta didn't return anything\n",
            "WARNING:facebook_scraper.extractors:[781880380617345] Extract method extract_factcheck didn't return anything\n",
            "WARNING:facebook_scraper.extractors:[781880380617345] Extract method extract_share_information didn't return anything\n",
            "WARNING:facebook_scraper.extractors:[781880380617345] Extract method extract_listing didn't return anything\n",
            "WARNING:facebook_scraper.extractors:[781880380617345] Extract method extract_with didn't return anything\n",
            "ERROR:facebook_scraper.extractors:'NoneType' object has no attribute 'attrs'\n",
            "WARNING:facebook_scraper.extractors:[781699723968744] Extract method extract_video didn't return anything\n",
            "WARNING:facebook_scraper.extractors:[781699723968744] Extract method extract_video_thumbnail didn't return anything\n",
            "WARNING:facebook_scraper.extractors:[781699723968744] Extract method extract_video_id didn't return anything\n",
            "WARNING:facebook_scraper.extractors:[781699723968744] Extract method extract_video_meta didn't return anything\n",
            "WARNING:facebook_scraper.extractors:[781699723968744] Extract method extract_factcheck didn't return anything\n",
            "WARNING:facebook_scraper.extractors:[781699723968744] Extract method extract_share_information didn't return anything\n",
            "WARNING:facebook_scraper.extractors:[781699723968744] Extract method extract_listing didn't return anything\n",
            "WARNING:facebook_scraper.extractors:[781699723968744] Extract method extract_with didn't return anything\n",
            "WARNING:facebook_scraper.extractors:[781699723968744] Exception while extracting reactions: KeyError('reactors')\n",
            "ERROR:facebook_scraper.extractors:No comments area found\n",
            "WARNING:facebook_scraper.extractors:[780575717414478] Extract method extract_video_meta didn't return anything\n",
            "WARNING:facebook_scraper.extractors:[780575717414478] Extract method extract_factcheck didn't return anything\n",
            "ERROR:facebook_scraper.extractors:data-ft attribute not found\n",
            "WARNING:facebook_scraper.extractors:[780575717414478] Extract method extract_listing didn't return anything\n",
            "WARNING:facebook_scraper.extractors:[780575717414478] Exception while extracting reactions: KeyError('reactors')\n",
            "ERROR:facebook_scraper.extractors:No comments area found\n",
            "WARNING:facebook_scraper.extractors:[780105270794856] Extract method extract_video didn't return anything\n",
            "WARNING:facebook_scraper.extractors:[780105270794856] Extract method extract_video_thumbnail didn't return anything\n",
            "WARNING:facebook_scraper.extractors:[780105270794856] Extract method extract_video_id didn't return anything\n",
            "WARNING:facebook_scraper.extractors:[780105270794856] Extract method extract_video_meta didn't return anything\n",
            "WARNING:facebook_scraper.extractors:[780105270794856] Extract method extract_factcheck didn't return anything\n",
            "WARNING:facebook_scraper.extractors:[780105270794856] Extract method extract_share_information didn't return anything\n",
            "WARNING:facebook_scraper.extractors:[780105270794856] Extract method extract_listing didn't return anything\n",
            "WARNING:facebook_scraper.extractors:[780105270794856] Extract method extract_with didn't return anything\n",
            "WARNING:facebook_scraper.extractors:[780105270794856] Exception while extracting reactions: KeyError('reactors')\n",
            "ERROR:facebook_scraper.extractors:No comments area found\n",
            "ERROR:facebook_scraper.extractors:'NoneType' object has no attribute 'attrs'\n",
            "WARNING:facebook_scraper.extractors:[779314304207286] Extract method extract_video didn't return anything\n",
            "WARNING:facebook_scraper.extractors:[779314304207286] Extract method extract_video_thumbnail didn't return anything\n",
            "WARNING:facebook_scraper.extractors:[779314304207286] Extract method extract_video_id didn't return anything\n",
            "WARNING:facebook_scraper.extractors:[779314304207286] Extract method extract_video_meta didn't return anything\n",
            "WARNING:facebook_scraper.extractors:[779314304207286] Extract method extract_factcheck didn't return anything\n",
            "WARNING:facebook_scraper.extractors:[779314304207286] Extract method extract_share_information didn't return anything\n",
            "WARNING:facebook_scraper.extractors:[779314304207286] Extract method extract_listing didn't return anything\n",
            "WARNING:facebook_scraper.extractors:[779314304207286] Extract method extract_with didn't return anything\n",
            "WARNING:facebook_scraper.extractors:[779314304207286] Exception while extracting reactions: KeyError('reactors')\n",
            "ERROR:facebook_scraper.extractors:No comments area found\n",
            "WARNING:facebook_scraper.extractors:[779067890898594] Exception while running extract_photo_link: KeyError('query_results')\n",
            "WARNING:facebook_scraper.extractors:[779067890898594] Extract method extract_video didn't return anything\n",
            "WARNING:facebook_scraper.extractors:[779067890898594] Extract method extract_video_thumbnail didn't return anything\n",
            "WARNING:facebook_scraper.extractors:[779067890898594] Extract method extract_video_id didn't return anything\n",
            "WARNING:facebook_scraper.extractors:[779067890898594] Extract method extract_video_meta didn't return anything\n",
            "WARNING:facebook_scraper.extractors:[779067890898594] Extract method extract_factcheck didn't return anything\n",
            "WARNING:facebook_scraper.extractors:[779067890898594] Extract method extract_share_information didn't return anything\n",
            "WARNING:facebook_scraper.extractors:[779067890898594] Extract method extract_listing didn't return anything\n",
            "WARNING:facebook_scraper.extractors:[779067890898594] Extract method extract_with didn't return anything\n",
            "WARNING:facebook_scraper.extractors:[779067890898594] Exception while extracting reactions: KeyError('reactors')\n",
            "ERROR:facebook_scraper.extractors:No comments area found\n",
            "WARNING:facebook_scraper.page_iterators:No raw posts (<article> elements) were found in this page.\n"
          ]
        }
      ],
      "source": [
        "post_list = []\n",
        "for post in get_posts(FANPAGE_LINK,\n",
        "                    options={\"comments\": True, \"reactions\": True, \"allow_extra_requests\": True},\n",
        "                    extra_info=True, pages=3, cookies=COOKIE_PATH):\n",
        "    post_list.append(post)"
      ]
    },
    {
      "cell_type": "markdown",
      "metadata": {
        "id": "m6k9UCkAOz7W"
      },
      "source": [
        "### Post-processing & Output generate"
      ]
    },
    {
      "cell_type": "code",
      "execution_count": null,
      "metadata": {
        "id": "KzwaAiHADsv2"
      },
      "outputs": [],
      "source": [
        "fields_list = ['post_id', 'text', 'time', 'images', 'images_description', 'likes', 'comments', 'shares', 'post_url', 'link', 'username']\n",
        "result_list = []\n",
        "for post in post_list:\n",
        "    my_obj = {}\n",
        "    for field in fields_list:\n",
        "        my_obj[field] = post[field]\n",
        "    ## Manipulate Comments\n",
        "    if len(post['comments_full']) > 0:\n",
        "        my_obj['comments_content'] = '\\n'.join([comment['comment_text'] for comment in post['comments_full']])\n",
        "\n",
        "    result_list.append(my_obj)"
      ]
    },
    {
      "cell_type": "markdown",
      "metadata": {
        "id": "QEQWuWB7Oz7X"
      },
      "source": [
        "### 😎 Write it to CSV: <PAGE_NAME>.csv"
      ]
    },
    {
      "cell_type": "code",
      "execution_count": null,
      "metadata": {
        "id": "B01vey7aDw3B"
      },
      "outputs": [],
      "source": [
        "df = pd.DataFrame(result_list)\n",
        "df.to_excel(FOLDER_PATH + FANPAGE_LINK + \".xlsx\", index=False)"
      ]
    }
  ],
  "metadata": {
    "colab": {
      "provenance": [],
      "include_colab_link": true
    },
    "kernelspec": {
      "display_name": "Python 3",
      "name": "python3"
    },
    "language_info": {
      "name": "python"
    }
  },
  "nbformat": 4,
  "nbformat_minor": 0
}